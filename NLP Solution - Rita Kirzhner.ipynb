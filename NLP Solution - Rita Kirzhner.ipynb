{
 "cells": [
  {
   "cell_type": "markdown",
   "metadata": {},
   "source": [
    "# Amazon Alexa - EY Calculator Functionality"
   ]
  },
  {
   "cell_type": "markdown",
   "metadata": {},
   "source": [
    "EY built a calculator functionality to be added into Amazon's Alexa product. The calculator functionality runs off the full script shown below, and enables Alexa to understand arithmetic questions in English and respond with a computed value in sentence form.   \n",
    "\n",
    "This program can either be saved and run in a command line by entering \"python [nameoffile.py]\" or can be executed right from this jupyter notebook by running the Full Code section cell below. "
   ]
  },
  {
   "cell_type": "markdown",
   "metadata": {},
   "source": [
    "# Sample Questions"
   ]
  },
  {
   "cell_type": "markdown",
   "metadata": {},
   "source": [
    "Below are some sample questions a user can input into the command line or ask the program when prompted:\n",
    "Ex.1: \"What is two plus two?\"\n",
    "Ex.2: \"How many is one hundred divided by five?\"\n",
    "Ex.3: \"What is three plus ten minus seven plus ten divided by five?\"\n",
    "\n",
    "This script does rely on correct spelling of words in the question, but if the program has trouble understanding your question, it will prompt you to rephrase. "
   ]
  },
  {
   "cell_type": "markdown",
   "metadata": {},
   "source": [
    "# Full Code"
   ]
  },
  {
   "cell_type": "code",
   "execution_count": null,
   "metadata": {
    "collapsed": true
   },
   "outputs": [],
   "source": [
    "import re\n",
    "import sys\n",
    "import string\n",
    "from string import punctuation\n",
    "import numpy as np\n",
    "import numexpr as ne\n",
    "from num2words import num2words\n",
    "\n",
    "def main(): \n",
    "    try:\n",
    "        q = input('What is your question? Please enter here: ')\n",
    "        translator = str.maketrans(\"\",\"\", punctuation)\n",
    "        s = q.translate(translator)\n",
    "        tokens = s.split() \n",
    "        tokenstring = \" \".join(str(x) for x in tokens)\n",
    "        ready2parse = text2int(tokenstring) \n",
    "        numbers = numstring(ready2parse) \n",
    "        mathops = opstring(ready2parse) \n",
    "        formula = createformula(numbers,mathops)\n",
    "        answer = finalanswer(formula) \n",
    "        qanswer = string_afteris(tokenstring)\n",
    "        qanswer2 = capstring(qanswer) \n",
    "        print (qanswer2,'is',num2words(answer),'.')\n",
    "    except ValueError:\n",
    "        print('Sorry, I think I misunderstood. Please try rephrasing your question.')\n",
    "        sys.exit(1)\n",
    "    except SyntaxError:\n",
    "        print('Sorry, I think I misunderstood. Please try rephrasing your question.')\n",
    "        sys.exit(1)\n",
    "\n",
    "def numstring(prestring):\n",
    "    numbers = [int(s) for s in prestring.split() if s.isdigit()]\n",
    "    return numbers \n",
    "    \n",
    "def opstring(prestring):\n",
    "    operators = re.findall(r'plus|added to|minus|subtracted from|divided by|multiplied by|by|times|product of|sum of|less|difference between|quotient of', prestring)\n",
    "\n",
    "    dic = {'plus':'+', 'added to':'+', 'sum of':'+', 'minus':'-', 'subtracted from':'-', 'less':'-', 'difference between':'-', 'multiplied by':'*', 'by':'*','times':'*', 'product of':'*', 'divided by':'/', 'quotient of':'/'}\n",
    "\n",
    "    mathops = [dic[n] if n in dic else n for n in operators]\n",
    "    return mathops\n",
    "\n",
    "def createformula(str1, str2):\n",
    "    result = [] \n",
    "    i = 0\n",
    "    for i, num in enumerate(str1):\n",
    "        result.append(num)\n",
    "        for j, op in enumerate(str2):\n",
    "            if j==i:  \n",
    "                result.append(op)\n",
    "    return result\n",
    "\n",
    "def finalanswer(list1):\n",
    "    finalstring = ''.join(str(e) for e in list1)\n",
    "    finalresult = ne.evaluate(finalstring)\n",
    "    return finalresult\n",
    "\n",
    "def string_afteris(s):\n",
    "    s_sub = 'is'\n",
    "    if s_sub in s:\n",
    "        qanswer = s[s.find(s_sub) + len(s_sub):]\n",
    "    else:\n",
    "        qanswer = s \n",
    "    return qanswer\n",
    "\n",
    "def capstring(s):\n",
    "    cstring = s.strip().capitalize()\n",
    "    return cstring\n",
    "\n",
    "def text2int(textnum, numwords={}):\n",
    "    if not numwords:\n",
    "        units = [\n",
    "        \"zero\", \"one\", \"two\", \"three\", \"four\", \"five\", \"six\", \"seven\", \"eight\",\n",
    "        \"nine\", \"ten\", \"eleven\", \"twelve\", \"thirteen\", \"fourteen\", \"fifteen\",\n",
    "        \"sixteen\", \"seventeen\", \"eighteen\", \"nineteen\",\n",
    "        ]\n",
    "\n",
    "        tens = [\"\", \"\", \"twenty\", \"thirty\", \"forty\", \"fifty\", \"sixty\", \"seventy\", \"eighty\", \"ninety\"]\n",
    "\n",
    "        scales = [\"hundred\", \"thousand\", \"million\", \"billion\", \"trillion\"]\n",
    "\n",
    "        numwords[\"and\"] = (1, 0)\n",
    "        for idx, word in enumerate(units):  numwords[word] = (1, idx)\n",
    "        for idx, word in enumerate(tens):       numwords[word] = (1, idx * 10)\n",
    "        for idx, word in enumerate(scales): numwords[word] = (10 ** (idx * 3 or 2), 0)\n",
    "\n",
    "    ordinal_words = {'first':1, 'second':2, 'third':3, 'fifth':5, 'eighth':8, 'ninth':9, 'twelfth':12}\n",
    "    ordinal_endings = [('ieth', 'y'), ('th', '')]\n",
    "\n",
    "    textnum = textnum.replace('-', ' ')\n",
    "\n",
    "    current = result = 0\n",
    "    curstring = \"\"\n",
    "    onnumber = False\n",
    "    for word in textnum.split():\n",
    "        if word in ordinal_words:\n",
    "            scale, increment = (1, ordinal_words[word])\n",
    "            current = current * scale + increment\n",
    "            if scale > 100:\n",
    "                result += current\n",
    "                current = 0\n",
    "            onnumber = True\n",
    "        else:\n",
    "            for ending, replacement in ordinal_endings:\n",
    "                if word.endswith(ending):\n",
    "                    word = \"%s%s\" % (word[:-len(ending)], replacement)\n",
    "\n",
    "            if word not in numwords:\n",
    "                if onnumber:\n",
    "                    curstring += repr(result + current) + \" \"\n",
    "                curstring += word + \" \"\n",
    "                result = current = 0\n",
    "                onnumber = False\n",
    "            else:\n",
    "                scale, increment = numwords[word]\n",
    "\n",
    "                current = current * scale + increment\n",
    "                if scale > 100:\n",
    "                    result += current\n",
    "                    current = 0\n",
    "                onnumber = True\n",
    "\n",
    "    if onnumber:\n",
    "        curstring += repr(result + current)\n",
    "\n",
    "    return curstring\n",
    "\n",
    "\n",
    "if  __name__ == \"__main__\":\n",
    "        main();"
   ]
  },
  {
   "cell_type": "markdown",
   "metadata": {},
   "source": [
    "# Walkthrough of the Script and How It Works"
   ]
  },
  {
   "cell_type": "markdown",
   "metadata": {},
   "source": [
    "First we download all the packages and libraries we will need. We will make use of Python's re package (for regular expressions), string package (for string operations), numpy and numexpr packages (for evaluating numerical expressions), and a package called num2words for converting our numerical outputs back into word language form. "
   ]
  },
  {
   "cell_type": "code",
   "execution_count": null,
   "metadata": {
    "collapsed": true
   },
   "outputs": [],
   "source": [
    "import re\n",
    "import sys\n",
    "import string\n",
    "from string import punctuation\n",
    "import numpy as np\n",
    "import numexpr as ne\n",
    "from num2words import num2words"
   ]
  },
  {
   "cell_type": "markdown",
   "metadata": {},
   "source": [
    "Next, the script uses a main function to call a set of other functions. "
   ]
  },
  {
   "cell_type": "code",
   "execution_count": null,
   "metadata": {
    "collapsed": true
   },
   "outputs": [],
   "source": [
    "def main(): \n",
    "    try:\n",
    "        q = input('What is your question? Please enter here: ')\n",
    "        translator = str.maketrans(\"\",\"\", punctuation)\n",
    "        s = q.translate(translator)\n",
    "        tokens = s.split() \n",
    "        tokenstring = \" \".join(str(x) for x in tokens)\n",
    "        ready2parse = text2int(tokenstring) \n",
    "        numbers = numstring(ready2parse) \n",
    "        mathops = opstring(ready2parse) \n",
    "        formula = createformula(numbers,mathops)\n",
    "        answer = finalanswer(formula) \n",
    "        qanswer = string_afteris(tokenstring)\n",
    "        qanswer2 = capstring(qanswer) \n",
    "        print (qanswer2,'is',num2words(answer),'.')\n",
    "    except ValueError:\n",
    "        print('Sorry, I think I misunderstood. Please try rephrasing your question.')\n",
    "        sys.exit(1)\n",
    "    except SyntaxError:\n",
    "        print('Sorry, I think I misunderstood. Please try rephrasing your question.')\n",
    "        sys.exit(1)"
   ]
  },
  {
   "cell_type": "markdown",
   "metadata": {},
   "source": [
    "The script tries a set of lines in the main function. First it starts with taking the input question."
   ]
  },
  {
   "cell_type": "code",
   "execution_count": null,
   "metadata": {
    "collapsed": true
   },
   "outputs": [],
   "source": [
    "def main():\n",
    "\ttry:\n",
    "\t\tq = input('What is your question? Please enter here: ')"
   ]
  },
  {
   "cell_type": "markdown",
   "metadata": {},
   "source": [
    "Once it receives an input question, it takes the input and uses a translator function to remove all punctuation from the question. It does so by first splitting up the question string into a list of tokens and removing the punctuation. "
   ]
  },
  {
   "cell_type": "code",
   "execution_count": null,
   "metadata": {
    "collapsed": true
   },
   "outputs": [],
   "source": [
    "        translator = str.maketrans(\"\",\"\", punctuation)\n",
    "        s = q.translate(translator)\n",
    "        tokens = s.split() "
   ]
  },
  {
   "cell_type": "markdown",
   "metadata": {},
   "source": [
    "Then it combines the list of tokens back into a string without punctuation, using .join. "
   ]
  },
  {
   "cell_type": "code",
   "execution_count": null,
   "metadata": {
    "collapsed": true
   },
   "outputs": [],
   "source": [
    "         tokenstring = \" \".join(str(x) for x in tokens)"
   ]
  },
  {
   "cell_type": "markdown",
   "metadata": {},
   "source": [
    "A sub-function called text2int is called within the main function and applied to the new tokenstring (the original question without punctuation). \n",
    "\n",
    "Text2int is a set of code that converts written word numbers into their equivalent integer format. This code is being used in this script as a helper function, but was developed by someone else and slight improvements were made to the code used here. Documentation for text2int can be found here: https://github.com/ghewgill/text2num/blob/master/text2num.py\n",
    "\n",
    "The line below shows the main function applying text2int to the tokenstring, and creating a new string called ready2parse."
   ]
  },
  {
   "cell_type": "code",
   "execution_count": null,
   "metadata": {
    "collapsed": true
   },
   "outputs": [],
   "source": [
    "         ready2parse = text2int(tokenstring) "
   ]
  },
  {
   "cell_type": "markdown",
   "metadata": {},
   "source": [
    "The full text2int function is shown below, but we won't go into details here - please refer to the documentation cited above for additional information. \n",
    "\n",
    "Essentially, text2int can take numbers in text form such as \"two\", \"one hundred\", \"thirteen\", and \"five thousand six hundred and sixty two\" and convert them to their integer format (e.g. \"2\", \"100\", \"13\", and \"5662\")."
   ]
  },
  {
   "cell_type": "code",
   "execution_count": null,
   "metadata": {
    "collapsed": true
   },
   "outputs": [],
   "source": [
    "def text2int(textnum, numwords={}):\n",
    "\tif not numwords:\n",
    "\t\tunits = [\n",
    "\t\t\"zero\", \"one\", \"two\", \"three\", \"four\", \"five\", \"six\", \"seven\", \"eight\",\n",
    "\t\t\"nine\", \"ten\", \"eleven\", \"twelve\", \"thirteen\", \"fourteen\", \"fifteen\",\n",
    "\t\t\"sixteen\", \"seventeen\", \"eighteen\", \"nineteen\",\n",
    "\t\t]\n",
    "\n",
    "\t\ttens = [\"\", \"\", \"twenty\", \"thirty\", \"forty\", \"fifty\", \"sixty\", \"seventy\", \"eighty\", \"ninety\"]\n",
    "\n",
    "\t\tscales = [\"hundred\", \"thousand\", \"million\", \"billion\", \"trillion\"]\n",
    "\n",
    "\t\tnumwords[\"and\"] = (1, 0)\n",
    "\t\tfor idx, word in enumerate(units):  numwords[word] = (1, idx)\n",
    "\t\tfor idx, word in enumerate(tens):       numwords[word] = (1, idx * 10)\n",
    "\t\tfor idx, word in enumerate(scales): numwords[word] = (10 ** (idx * 3 or 2), 0)\n",
    "\n",
    "\tordinal_words = {'first':1, 'second':2, 'third':3, 'fifth':5, 'eighth':8, 'ninth':9, 'twelfth':12}\n",
    "\tordinal_endings = [('ieth', 'y'), ('th', '')]\n",
    "\n",
    "\ttextnum = textnum.replace('-', ' ')\n",
    "\n",
    "\tcurrent = result = 0\n",
    "\tcurstring = \"\"\n",
    "\tonnumber = False\n",
    "\tfor word in textnum.split():\n",
    "\t\tif word in ordinal_words:\n",
    "\t\t\tscale, increment = (1, ordinal_words[word])\n",
    "\t\t\tcurrent = current * scale + increment\n",
    "\t\t\tif scale > 100:\n",
    "\t\t\t\tresult += current\n",
    "\t\t\t\tcurrent = 0\n",
    "\t\t\tonnumber = True\n",
    "\t\telse:\n",
    "\t\t\tfor ending, replacement in ordinal_endings:\n",
    "\t\t\t\tif word.endswith(ending):\n",
    "\t\t\t\t\tword = \"%s%s\" % (word[:-len(ending)], replacement)\n",
    "\n",
    "\t\t\tif word not in numwords:\n",
    "\t\t\t\tif onnumber:\n",
    "\t\t\t\t\tcurstring += repr(result + current) + \" \"\n",
    "\t\t\t\tcurstring += word + \" \"\n",
    "\t\t\t\tresult = current = 0\n",
    "\t\t\t\tonnumber = False\n",
    "\t\t\telse:\n",
    "\t\t\t\tscale, increment = numwords[word]\n",
    "\n",
    "\t\t\t\tcurrent = current * scale + increment\n",
    "\t\t\t\tif scale > 100:\n",
    "\t\t\t\t\tresult += current\n",
    "\t\t\t\t\tcurrent = 0\n",
    "\t\t\t\tonnumber = True\n",
    "\n",
    "\tif onnumber:\n",
    "\t\tcurstring += repr(result + current)\n",
    "\n",
    "\treturn curstring"
   ]
  },
  {
   "cell_type": "markdown",
   "metadata": {},
   "source": [
    "Next, the main function takes the new string called ready2parse - which, if the original question was \"What is three times four?\" should now look like \"what is 3 times 4\" - and applies two other sub-functions to this string to pull out needed information.\n",
    "\n",
    "The first sub-function, called numstring, pulls out all integers in the ready2parse string and puts them into a new string called numbers. \n",
    "\n",
    "For example, ready2parse string \"what is 3 times 4\" returns a string called numbers with ['3','4'] in it. "
   ]
  },
  {
   "cell_type": "code",
   "execution_count": null,
   "metadata": {
    "collapsed": true
   },
   "outputs": [],
   "source": [
    "        numbers = numstring(ready2parse)"
   ]
  },
  {
   "cell_type": "markdown",
   "metadata": {},
   "source": [
    "The actual numstring function is shown below, using the string split and isdigit methods to accomplish the task. "
   ]
  },
  {
   "cell_type": "code",
   "execution_count": null,
   "metadata": {
    "collapsed": true
   },
   "outputs": [],
   "source": [
    "def numstring(prestring):\n",
    "    numbers = [int(s) for s in prestring.split() if s.isdigit()]\n",
    "    return numbers "
   ]
  },
  {
   "cell_type": "markdown",
   "metadata": {},
   "source": [
    "The second sub-function, called opstring, takes the ready2parse string and pulls out all words in the question that represent math operations (e.g. words such as \"plus\", \"minus\", \"times\", etc). It then turns these word operations into the actual operation signs (e.g. \"+\", \"-\", \"*\", etc.). \n",
    "\n",
    "Below is the line in the main function calling opstring."
   ]
  },
  {
   "cell_type": "code",
   "execution_count": null,
   "metadata": {
    "collapsed": true
   },
   "outputs": [],
   "source": [
    "        mathops = opstring(ready2parse)"
   ]
  },
  {
   "cell_type": "markdown",
   "metadata": {},
   "source": [
    "The actual sub-function opstring is shown below. \n",
    "\n",
    "It first finds all the keywords that represent arithmetic operations, and then using a python dictionary, replaces the words it found in the string with their respective mapped values which are the operation signs themselves. It then returns a new string called mathops which contains the operations alone (for example, it might return a string of ['+','+','*','/']). "
   ]
  },
  {
   "cell_type": "code",
   "execution_count": null,
   "metadata": {
    "collapsed": true
   },
   "outputs": [],
   "source": [
    "def opstring(prestring):\n",
    "    operators = re.findall(r'plus|added to|minus|subtracted from|divided by|multiplied by|by|times|product of|sum of|less|difference between|quotient of', prestring)\n",
    "\n",
    "    dic = {'plus':'+', 'added to':'+', 'sum of':'+', 'minus':'-', 'subtracted from':'-', 'less':'-', 'difference between':'-', 'multiplied by':'*', 'by':'*','times':'*', 'product of':'*', 'divided by':'/', 'quotient of':'/'}\n",
    "\n",
    "    mathops = [dic[n] if n in dic else n for n in operators]\n",
    "    return mathops"
   ]
  },
  {
   "cell_type": "markdown",
   "metadata": {},
   "source": [
    "Using the two strings that were created, the numbers string and mathops string, the main function calls a sub-function called createformula to apply to the two new strings. "
   ]
  },
  {
   "cell_type": "code",
   "execution_count": null,
   "metadata": {
    "collapsed": true
   },
   "outputs": [],
   "source": [
    "        formula = createformula(numbers,mathops)"
   ]
  },
  {
   "cell_type": "markdown",
   "metadata": {},
   "source": [
    "The actual createformula function is shown below. The createformula function takes the two separate strings, one with integers and one with arithmetic operators pulled in order from the original question, and combines these two strings into one ordered string to create a \"formula\" for the solution. \n",
    "\n",
    "For example, if the numbers string returns ['2','3','4','1'] and the mathops string returns ['+','+','-'], the createformula function returns a string called result in the form of ['2','+','3','+','4','-','1']. \n",
    "\n",
    "This new string called result is saved in the main function as a variable called formula. "
   ]
  },
  {
   "cell_type": "code",
   "execution_count": null,
   "metadata": {
    "collapsed": true
   },
   "outputs": [],
   "source": [
    "def createformula(str1, str2):\n",
    "    result = [] \n",
    "    i = 0\n",
    "    for i, num in enumerate(str1):\n",
    "        result.append(num)\n",
    "        for j, op in enumerate(str2):\n",
    "            if j==i:  \n",
    "                result.append(op)\n",
    "    return result"
   ]
  },
  {
   "cell_type": "markdown",
   "metadata": {},
   "source": [
    "The main function then calls the sub-function finalanswer on the variable called formula, which is the new string containing the \"formula\" for the answer to the original question."
   ]
  },
  {
   "cell_type": "code",
   "execution_count": null,
   "metadata": {
    "collapsed": true
   },
   "outputs": [],
   "source": [
    "        answer = finalanswer(formula) "
   ]
  },
  {
   "cell_type": "markdown",
   "metadata": {},
   "source": [
    "The finalanswer function evaluates the formula string using numpy and numexpr packages, by joining the string using .join from Python string methods and applying ne.evaluate from the numexpr package on the joined string, called finalstring. \n",
    "\n",
    "The finalanswer function saves the result of this evaluated string as finalresult, which should now be a numerical value (for the above example, the answer would be 8). "
   ]
  },
  {
   "cell_type": "code",
   "execution_count": null,
   "metadata": {
    "collapsed": true
   },
   "outputs": [],
   "source": [
    "def finalanswer(list1):\n",
    "    finalstring = ''.join(str(e) for e in list1)\n",
    "    finalresult = ne.evaluate(finalstring)\n",
    "    return finalresult"
   ]
  },
  {
   "cell_type": "markdown",
   "metadata": {},
   "source": [
    "In order to return this numerical result in a sentence format, the main function calls a sub-function called string_afteris to go back to the original tokenstring string from earlier in the process, which contained the original input question without punctuation, and split the string after the word \"is\" to capture only the words from the original question that need to be returned in the answer.\n",
    "\n",
    "Since most questions are stated by saying something like \"What is\", \"How much\", \"How many\", and are followed by the word \"is\" before mentioning the numbers and operations themselves, the string_afteris function cuts the original input question string after the word \"is\"."
   ]
  },
  {
   "cell_type": "code",
   "execution_count": null,
   "metadata": {
    "collapsed": true
   },
   "outputs": [],
   "source": [
    "        qanswer = string_afteris(tokenstring)"
   ]
  },
  {
   "cell_type": "markdown",
   "metadata": {},
   "source": [
    "Below is the string_afteris function, using string methods to identify if the word \"is\" exists in the original input question string and cut it after this word if so. If not, the function returns the original string. In either case, the string returned is saved as qanswer to be used again in the main function. "
   ]
  },
  {
   "cell_type": "code",
   "execution_count": null,
   "metadata": {
    "collapsed": true
   },
   "outputs": [],
   "source": [
    "def string_afteris(s):\n",
    "    s_sub = 'is'\n",
    "    if s_sub in s:\n",
    "        qanswer = s[s.find(s_sub) + len(s_sub):]\n",
    "    else:\n",
    "        qanswer = s \n",
    "    return qanswer"
   ]
  },
  {
   "cell_type": "markdown",
   "metadata": {},
   "source": [
    "Finally, the main function calls a sub-function called capstring to capitalize the beginning of the qanswer string and use it to return the final answer in sentence format. The capitalized string is saved as qanswer2 in the main function, and used in the printing of the final answer. "
   ]
  },
  {
   "cell_type": "code",
   "execution_count": null,
   "metadata": {
    "collapsed": true
   },
   "outputs": [],
   "source": [
    "        qanswer2 = capstring(qanswer) "
   ]
  },
  {
   "cell_type": "markdown",
   "metadata": {},
   "source": [
    "The capstring sub-function is shown below, using string methods to capitalize the qanswer function. "
   ]
  },
  {
   "cell_type": "code",
   "execution_count": null,
   "metadata": {
    "collapsed": true
   },
   "outputs": [],
   "source": [
    "def capstring(s):\n",
    "    cstring = s.strip().capitalize()\n",
    "    return cstring"
   ]
  },
  {
   "cell_type": "markdown",
   "metadata": {},
   "source": [
    "The final answer is then printed in the below line by combining the qanswer string, the word \"is\", the computed answer in numerical format with a function called num2words applied to it, and a period at the end. The num2words package converts numerical values into written text (e.g. the number '42' is converted into \"forty-two\"). "
   ]
  },
  {
   "cell_type": "code",
   "execution_count": null,
   "metadata": {
    "collapsed": true
   },
   "outputs": [],
   "source": [
    "        print (qanswer2,'is',num2words(answer),'.')"
   ]
  },
  {
   "cell_type": "markdown",
   "metadata": {},
   "source": [
    "Lastly, the main function also includes two \"try except\" statements at the bottom of the function to prompt the user to attempt rephrasing their question if the program encounters an error, either ValueError or Syntax Error. "
   ]
  },
  {
   "cell_type": "code",
   "execution_count": null,
   "metadata": {
    "collapsed": true
   },
   "outputs": [],
   "source": [
    "\texcept ValueError:\n",
    "\t\tprint('Sorry, I think I misunderstood. Please try rephrasing your question.')\n",
    "\t\tsys.exit(1)\n",
    "\texcept SyntaxError:\n",
    "\t\tprint('Sorry, I think I misunderstood. Please try rephrasing your question.')\n",
    "\t\tsys.exit(1)"
   ]
  },
  {
   "cell_type": "markdown",
   "metadata": {},
   "source": [
    "As a result, to reiterate, the full main function is as follows (commented out explanations for each line are included below):"
   ]
  },
  {
   "cell_type": "code",
   "execution_count": null,
   "metadata": {
    "collapsed": true
   },
   "outputs": [],
   "source": [
    "def main():\n",
    "\ttry:\n",
    "\t\tq = input('What is your question? Please enter here: ') #Takes input question\n",
    "\t\ttranslator = str.maketrans(\"\",\"\", punctuation) #Translator function to remove punctuation\n",
    "\t\ts = q.translate(translator) #Apply translator to the input question string, and create new string s without punctuation\n",
    "\t\ttokens = s.split() #Split up new string s into list of tokens\n",
    "\t\ttokenstring = \" \".join(str(x) for x in tokens) #Join list of tokens back into a string (without punctuation)\n",
    "\t\tready2parse = text2int(tokenstring) #Apply text2int to new tokenstring without punctuation to change all words that represent numbers into actual integers, and create a new string called ready2parse\n",
    "\t\tnumbers = numstring(ready2parse) #Use ready2parse string to parse out all numbers (integers) and put into new string, called numbers\n",
    "\t\tmathops = opstring(ready2parse) #Also use ready2parse string to parse out all operator words, such as \"plus\", \"minus\", etc. and put into new string, called operators; then use python dictionary/mapping to replace all operator words with their actual operations (e.g. +, -, *, /) and return this as a new string called mathops\n",
    "\t\tformula = createformula(numbers,mathops) #Use createformula function to create a new string combining all the integers from numbers string with their operators from mathops string, to create a so-called \"formula\" string of what operations need to be completed\n",
    "\t\tanswer = finalanswer(formula) #Apply finalanswer function to formula string to use numexpr package as ne to evaluate the numbers & operators in the string, and obtain a final result in number(integer) form\n",
    "\t\tqanswer = string_afteris(tokenstring) #Go back to tokenstring from earlier, which had the original question without punctuation, and use string_afteris function to cut the string after the word \"is\" to remove aspects of the question and obtain only the words needed to return a complete sentence-answer as output. For example, \"What is two plus two?\" becomes \"two plus two...\" which we will need to use in the answer. Save this string as qanswer.\n",
    "\t\tqanswer2 = capstring(qanswer) #Capitalize the beginning of this new qanswer string so that you can form a real sentence in your answer, and save as string qanswer2\n",
    "\t\tprint (qanswer2,'is',num2words(answer),'.') #Print out the final answer/result in the form of: the qanswer string (e.g. \"Two plus two...\"), followed by \"is\", followed by the numerical answer in word format (we are using num2words to convert the integer back into a word), followed by a period. \n",
    "\texcept ValueError:\n",
    "\t\tprint('Sorry, I think I misunderstood. Please try rephrasing your question.')\n",
    "\t\tsys.exit(1)\n",
    "\texcept SyntaxError:\n",
    "\t\tprint('Sorry, I think I misunderstood. Please try rephrasing your question.')\n",
    "\t\tsys.exit(1)"
   ]
  },
  {
   "cell_type": "markdown",
   "metadata": {},
   "source": [
    "And of course, at the bottom of the script we include the below standard statement to allow our script to be run by programs that import it as well as standalone. "
   ]
  },
  {
   "cell_type": "code",
   "execution_count": null,
   "metadata": {
    "collapsed": true
   },
   "outputs": [],
   "source": [
    "if  __name__ == \"__main__\":\n",
    "        main();"
   ]
  },
  {
   "cell_type": "markdown",
   "metadata": {},
   "source": [
    "# How Can This Be Used?"
   ]
  },
  {
   "cell_type": "markdown",
   "metadata": {},
   "source": [
    "The EY calculator functionality for Amazon's Alexa can be used for a variety of purposes. For any type of office, corporate, or business use, this functionality can be added to Amazon's Alexa product and integrated with its speech-to-text transcription abilities to understand and respond to arithmetic questions asked by any employee.\n",
    "\n",
    "For example, a trader or broker in a bank who needs to do a quick calculation and simply shouts out his/her question to Alexa can obtains a response in sentence form. This functionality could be integrated for retail use of Alexa as well, for example in clothing stores or hotels, where employees may need to make quick calculations on the spot. "
   ]
  },
  {
   "cell_type": "markdown",
   "metadata": {},
   "source": [
    "# Contact"
   ]
  },
  {
   "cell_type": "markdown",
   "metadata": {},
   "source": [
    "For additional information, please contact Rita Kirzhner at rita.kirzhner@ey.com."
   ]
  }
 ],
 "metadata": {
  "kernelspec": {
   "display_name": "Python 3",
   "language": "python",
   "name": "python3"
  },
  "language_info": {
   "codemirror_mode": {
    "name": "ipython",
    "version": 3
   },
   "file_extension": ".py",
   "mimetype": "text/x-python",
   "name": "python",
   "nbconvert_exporter": "python",
   "pygments_lexer": "ipython3",
   "version": "3.6.3"
  }
 },
 "nbformat": 4,
 "nbformat_minor": 2
}
